{
 "cells": [
  {
   "cell_type": "code",
   "execution_count": 410,
   "metadata": {},
   "outputs": [],
   "source": [
    "import numpy as np"
   ]
  },
  {
   "cell_type": "code",
   "execution_count": 411,
   "metadata": {},
   "outputs": [],
   "source": [
    "import networkx as nx"
   ]
  },
  {
   "cell_type": "code",
   "execution_count": 412,
   "metadata": {},
   "outputs": [],
   "source": [
    "% matplotlib inline\n",
    "import matplotlib.pyplot as plt"
   ]
  },
  {
   "cell_type": "code",
   "execution_count": 413,
   "metadata": {},
   "outputs": [],
   "source": [
    "from scipy.optimize import minimize"
   ]
  },
  {
   "cell_type": "markdown",
   "metadata": {},
   "source": [
    "# Read data from file"
   ]
  },
  {
   "cell_type": "code",
   "execution_count": 414,
   "metadata": {},
   "outputs": [],
   "source": [
    "positions_file = \"./MarkerPositioning/dataset_1_positions.txt\"\n",
    "relations_file = \"./MarkerPositioning/dataset_1_relations.txt\""
   ]
  },
  {
   "cell_type": "code",
   "execution_count": 415,
   "metadata": {},
   "outputs": [],
   "source": [
    "def read_positions(positions_file):\n",
    "    x = []\n",
    "    y = []\n",
    "\n",
    "    with open(positions_file) as f1:\n",
    "        for line in f1.readlines():\n",
    "            p_x = int(line.split(\":\")[1].split(\", \")[0])\n",
    "            p_y = int(line.split(\":\")[1].split(\", \")[1])\n",
    "            x.append(p_x)\n",
    "            y.append(p_y)\n",
    "\n",
    "#     x = np.array(x) / (np.max(x) - np.min(x))\n",
    "#     y = np.array(y) / (np.max(y) - np.min(y))\n",
    "\n",
    "    x = np.array(x) / np.std(x)\n",
    "    y = np.array(y) / np.std(y)\n",
    "    \n",
    "    return x, y"
   ]
  },
  {
   "cell_type": "code",
   "execution_count": 416,
   "metadata": {},
   "outputs": [],
   "source": [
    "def read_relations(relations_file):\n",
    "    edges = []\n",
    "\n",
    "    with open(relations_file) as f1:\n",
    "        i = 0\n",
    "        for line in f1.readlines():\n",
    "            start = int(line.split(\":\")[0]) - 1\n",
    "            ends = line.split(\":\")[1].split(\",\")\n",
    "            for end in ends:\n",
    "                i += 1\n",
    "                end = int(end) - 1\n",
    "                edges.append((start, end))    \n",
    "    return edges"
   ]
  },
  {
   "cell_type": "code",
   "execution_count": 417,
   "metadata": {},
   "outputs": [],
   "source": [
    "def get_distance(i, j, x, y):\n",
    "    return np.sqrt((x[i] - x[j]) ** 2 + (y[i] - y[j]) ** 2)"
   ]
  },
  {
   "cell_type": "code",
   "execution_count": 418,
   "metadata": {},
   "outputs": [],
   "source": [
    "def get_distances_from_relations(x, y, edges):\n",
    "    D = np.array([\n",
    "        get_distance(i, j, x, y)\n",
    "        for i, j in edges\n",
    "    ])\n",
    "    return D"
   ]
  },
  {
   "cell_type": "code",
   "execution_count": 419,
   "metadata": {},
   "outputs": [],
   "source": [
    "x, y = read_positions(positions_file)"
   ]
  },
  {
   "cell_type": "code",
   "execution_count": 420,
   "metadata": {},
   "outputs": [],
   "source": [
    "edges = read_relations(relations_file)"
   ]
  },
  {
   "cell_type": "code",
   "execution_count": 421,
   "metadata": {},
   "outputs": [],
   "source": [
    "distances = get_distances_from_relations(x, y, edges)"
   ]
  },
  {
   "cell_type": "markdown",
   "metadata": {},
   "source": [
    "# Solver class"
   ]
  },
  {
   "cell_type": "code",
   "execution_count": 422,
   "metadata": {},
   "outputs": [],
   "source": [
    "class EuclideanSolver():\n",
    "    distances = None\n",
    "    graph = None\n",
    "    edges = None\n",
    "    \n",
    "    def get_value(self, i, j, k):\n",
    "        if k == i:\n",
    "            return 1\n",
    "        elif k == j:\n",
    "            return -1\n",
    "        else:\n",
    "            return 0\n",
    "        \n",
    "    def get_pair(self, i, j):\n",
    "        N = len(self.graph.nodes)\n",
    "        return [self.get_value(i, j, k) for k in range(N)]\n",
    "    \n",
    "    def __init__(self, distances_dictionary):\n",
    "        self.edges = distances_dictionary.keys()\n",
    "        self.distances = np.array([distances_dictionary[edge] for edge in self.edges])\n",
    "        \n",
    "        self.graph = nx.Graph()\n",
    "        self.graph.add_edges_from(self.edges)\n",
    "        \n",
    "    def initialize_distances(self):\n",
    "        graph = self.graph.copy()\n",
    "        for k, (i, j) in enumerate(graph.edges):\n",
    "            graph.edges[i, j]['weight'] = np.sqrt(self.distances[k])\n",
    "            \n",
    "        matrix = np.array(nx.adjacency_matrix(graph).todense()) ** 2\n",
    "        all_pairs = dict(nx.all_pairs_bellman_ford_path_length(graph))\n",
    "        \n",
    "        for n1 in graph.nodes:\n",
    "            for n2 in graph.nodes:\n",
    "                if (n1 == n2):\n",
    "                    matrix[n1, n2] = 0\n",
    "                if (n1 != n2) and (matrix[n1, n2] == 0):\n",
    "                    matrix[n1, n2] = all_pairs[n1][n2] ** 2\n",
    "                    \n",
    "        return matrix\n",
    "    \n",
    "    def initialize_points(self, initial_matrix):\n",
    "        N = len(self.graph.nodes)\n",
    "        F = np.array(initial_matrix)\n",
    "        e = np.ones((N, 1))\n",
    "        J = np.eye(N) - (e @ e.T) / N\n",
    "        T = -0.5 * (J @ F @ J)\n",
    "        a, b = np.linalg.eig(T)\n",
    "        top_indices = np.argsort(-a)[0:2]\n",
    "        U = b[:, top_indices]\n",
    "        L = np.diag(a[top_indices])\n",
    "        P = U @ np.sqrt(L)\n",
    "        return P\n",
    "        \n",
    "    def solve_optimization_problem(self, points):\n",
    "        A = np.array([\n",
    "            self.get_pair(i, j)\n",
    "            for i, j in self.edges\n",
    "        ]).astype(int)\n",
    "                \n",
    "        D = self.distances\n",
    "        \n",
    "        N = len(self.graph.nodes)\n",
    "        \n",
    "        prepared_points = np.hstack([\n",
    "            points.T[0], \n",
    "            points.T[1]\n",
    "        ])\n",
    "        \n",
    "        def f_to_minimize(P):\n",
    "            x = P[:N]\n",
    "            y = P[N:]\n",
    "\n",
    "            p1 = (x[np.newaxis, :] @ A.T) ** 2\n",
    "\n",
    "            p2 = (y[np.newaxis, :] @ A.T) ** 2\n",
    "            \n",
    "            return np.sum(np.abs((p1 + p2) - (D ** 2)))\n",
    "        \n",
    "        result = minimize(f_to_minimize, prepared_points)\n",
    "        \n",
    "        return np.vstack([\n",
    "            result.x[:N],\n",
    "            result.x[N:]\n",
    "        ])\n",
    "    \n",
    "    def convert_to_dictionary(self, points):\n",
    "        x, y = points[0], points[1]\n",
    "        return {\n",
    "            point: (x[index], y[index])\n",
    "            for index, point in enumerate(self.graph.nodes)\n",
    "        }\n",
    "    \n",
    "    def get_points(self):\n",
    "        initial_distances_matrix = self.initialize_distances()\n",
    "        initial_points = self.initialize_points(initial_distances_matrix)\n",
    "        solved_points = self.solve_optimization_problem(initial_points)\n",
    "        return self.convert_to_dictionary(solved_points)"
   ]
  },
  {
   "cell_type": "markdown",
   "metadata": {},
   "source": [
    "# Usage"
   ]
  },
  {
   "cell_type": "code",
   "execution_count": 423,
   "metadata": {},
   "outputs": [],
   "source": [
    "distances_dictionary = {\n",
    "    edge: distances[index]\n",
    "    for index, edge in enumerate(edges)\n",
    "}"
   ]
  },
  {
   "cell_type": "code",
   "execution_count": 424,
   "metadata": {},
   "outputs": [],
   "source": [
    "solver = EuclideanSolver(distances_dictionary)"
   ]
  },
  {
   "cell_type": "code",
   "execution_count": 425,
   "metadata": {},
   "outputs": [],
   "source": [
    "solved_points = solver.get_points()"
   ]
  },
  {
   "cell_type": "code",
   "execution_count": 426,
   "metadata": {},
   "outputs": [
    {
     "data": {
      "text/plain": [
       "{0: (1.6024376024374754, -0.8325389351007682),\n",
       " 1: (0.6904511899232861, -1.1979918789738868),\n",
       " 2: (-0.5449914462229948, -1.265019361530504),\n",
       " 3: (1.089820281189906, 0.6170248493375069),\n",
       " 4: (-0.07486204500661948, 0.2473668579497125),\n",
       " 5: (0.12460458195150886, 1.2743103607893187),\n",
       " 6: (-1.1632968969239603, 0.07106499179007357),\n",
       " 7: (-1.7658574695294234, 1.0857792208509265)}"
      ]
     },
     "execution_count": 426,
     "metadata": {},
     "output_type": "execute_result"
    }
   ],
   "source": [
    "solved_points"
   ]
  },
  {
   "cell_type": "code",
   "execution_count": 431,
   "metadata": {},
   "outputs": [],
   "source": [
    "points = solved_points.keys()\n",
    "x2 = np.array([solved_points[point][0] for point in points])\n",
    "y2 = np.array([solved_points[point][1] for point in points])"
   ]
  },
  {
   "cell_type": "code",
   "execution_count": 448,
   "metadata": {},
   "outputs": [],
   "source": [
    "def rotation_matrix(theta):\n",
    "    theta = np.radians(theta)\n",
    "    c, s = np.cos(theta), np.sin(theta)\n",
    "    R = np.array(((c, -s), (s, c)))\n",
    "    return R"
   ]
  },
  {
   "cell_type": "code",
   "execution_count": 520,
   "metadata": {},
   "outputs": [],
   "source": [
    "R = rotation_matrix(-10)"
   ]
  },
  {
   "cell_type": "code",
   "execution_count": 521,
   "metadata": {},
   "outputs": [],
   "source": [
    "points1 = np.vstack([x, y])"
   ]
  },
  {
   "cell_type": "code",
   "execution_count": 522,
   "metadata": {},
   "outputs": [],
   "source": [
    "rotated_x = -(R @ points1)[0]\n",
    "rotated_y = (R @ points1)[1]"
   ]
  },
  {
   "cell_type": "code",
   "execution_count": 532,
   "metadata": {},
   "outputs": [
    {
     "data": {
      "text/plain": [
       "<matplotlib.collections.PathCollection at 0x7f9e0657f320>"
      ]
     },
     "execution_count": 532,
     "metadata": {},
     "output_type": "execute_result"
    },
    {
     "data": {
      "image/png": "[encoded data removed]",
      "text/plain": [
       "<matplotlib.figure.Figure at 0x7f9e0661e828>"
      ]
     },
     "metadata": {},
     "output_type": "display_data"
    }
   ],
   "source": [
    "plt.scatter(rotated_x + 2.3, rotated_y - 1.8)\n",
    "plt.scatter(x2, y2)"
   ]
  }
 ],
 "metadata": {
  "kernelspec": {
   "display_name": "Python 3",
   "language": "python",
   "name": "python3"
  },
  "language_info": {
   "codemirror_mode": {
    "name": "ipython",
    "version": 3
   },
   "file_extension": ".py",
   "mimetype": "text/x-python",
   "name": "python",
   "nbconvert_exporter": "python",
   "pygments_lexer": "ipython3",
   "version": "3.5.2"
  }
 },
 "nbformat": 4,
 "nbformat_minor": 2
}
